{
 "cells": [
  {
   "cell_type": "markdown",
   "metadata": {},
   "source": [
    "# TP 1 - Análisis de datos comerciales para entender su Composición"
   ]
  },
  {
   "cell_type": "markdown",
   "metadata": {},
   "source": [
    "`Dataset: Datos.csv`\n",
    "\n",
    "*La introducción y análsis estan en el Readme*"
   ]
  },
  {
   "cell_type": "markdown",
   "metadata": {},
   "source": [
    "## Diccionario\n"
   ]
  },
  {
   "cell_type": "markdown",
   "metadata": {},
   "source": [
    "* Origin:  indica si el origen del pedido es marketplace o fulfillment.\n",
    "* Sequence:  es la secuencia numérica de la transacción del pedido.\n",
    "* Creation Date:  es la fecha y hora en que el cliente realizó el pedido.\n",
    "* Client Document:  es el número de identificación fiscal del cliente que realizó el pedido.\n",
    "* UF:  es el estado, provincia, región o departamento desde el que el cliente realizó el pedido.\n",
    "* City:  es la ciudad desde la que el cliente realizó el pedido.\n",
    "* Address Type:  es el tipo de dirección de entrega (domicilio o recogida).\n",
    "* Postal Code:  es el código postal de la dirección de entrega.\n",
    "* Courier:  es la transportadora responsable de la entrega.\n",
    "* Status:  es el status del pedido en el momento de exportación la plantilla.\n",
    "* Coupon:  es el ID del cupón del pedido, si lo hay.\n",
    "* Quantity_SKU:  es la cantidad de ítems del mismo SKU.\n",
    "* Category Ids Sku:  son los ID de las categorías en los que se encuentra el SKU. Esta información se presenta siguiendo el árbol de departamento/categoría/subcategoría. Por ejemplo, si el valor es /1000003/1000016/, eso significa que el SKU está en la categoría 1000016, que a su vez forma parte del departamento 1000003.\n",
    "* Reference Code:  es el código de referencia del SKU.\n",
    "* SKU Selling Price:  es el precio al que se vendió el SKU realmente, ya con los descuentos o promociones aplicados.\n",
    "* SKU Total Price:  es el valor total del SKU en el pedido, considerando todos os ítems del SKU.\n",
    "* Total Value:  es el valor total del pedido. Atención\n",
    "* Discounts Names:  son las promociones aplicadas al pedido.\n",
    "* Canceled By:  es el email del usuario que realizó la cancelación del pedido.\n",
    "* Corporate Document:  es el número de registro de persona jurídica, cuando el pedido es realizado por una empresa.\n",
    "* SalesChannel:  es el ID de la política comercial del pedido."
   ]
  },
  {
   "cell_type": "markdown",
   "metadata": {},
   "source": [
    "## Código"
   ]
  },
  {
   "cell_type": "markdown",
   "metadata": {},
   "source": [
    "### <h3 style=\"color:#900000; font-weight:bold;\">Inicializando Datos</h3>"
   ]
  },
  {
   "cell_type": "code",
   "execution_count": 1,
   "metadata": {},
   "outputs": [],
   "source": [
    "# Importación de librerias\n",
    "import pandas as pd\n",
    "import numpy as np\n",
    "import locale\n",
    "import unidecode\n",
    "import matplotlib.pyplot as plt\n",
    "import seaborn as sns\n",
    "\n",
    "# Selección de area local\n",
    "locale.setlocale(locale.LC_TIME, 'Spanish_Argentina.1252')\n",
    "\n",
    "# selección de paleta de color\n",
    "sns.set_theme(style=\"whitegrid\", palette=\"bright\")"
   ]
  },
  {
   "cell_type": "code",
   "execution_count": 2,
   "metadata": {},
   "outputs": [],
   "source": [
    "# Asignacion del dataset a la variable \"dataset\"\n",
    "dataset = pd.read_csv('./Datos/Datos.csv',sep=';')"
   ]
  },
  {
   "cell_type": "code",
   "execution_count": 3,
   "metadata": {},
   "outputs": [
    {
     "data": {
      "text/html": [
       "<div>\n",
       "<style scoped>\n",
       "    .dataframe tbody tr th:only-of-type {\n",
       "        vertical-align: middle;\n",
       "    }\n",
       "\n",
       "    .dataframe tbody tr th {\n",
       "        vertical-align: top;\n",
       "    }\n",
       "\n",
       "    .dataframe thead th {\n",
       "        text-align: right;\n",
       "    }\n",
       "</style>\n",
       "<table border=\"1\" class=\"dataframe\">\n",
       "  <thead>\n",
       "    <tr style=\"text-align: right;\">\n",
       "      <th></th>\n",
       "      <th>Origin</th>\n",
       "      <th>Sequence</th>\n",
       "      <th>Creation Date</th>\n",
       "      <th>Client Document</th>\n",
       "      <th>UF</th>\n",
       "      <th>City</th>\n",
       "      <th>Address Type</th>\n",
       "      <th>Postal Code</th>\n",
       "      <th>Courrier</th>\n",
       "      <th>Status</th>\n",
       "      <th>...</th>\n",
       "      <th>Quantity_SKU</th>\n",
       "      <th>Category Ids Sku</th>\n",
       "      <th>Reference Code</th>\n",
       "      <th>SKU Selling Price</th>\n",
       "      <th>SKU Total Price</th>\n",
       "      <th>Total Value</th>\n",
       "      <th>Discounts Names</th>\n",
       "      <th>Cancelled By</th>\n",
       "      <th>Corporate Document</th>\n",
       "      <th>SalesChannel</th>\n",
       "    </tr>\n",
       "  </thead>\n",
       "  <tbody>\n",
       "    <tr>\n",
       "      <th>0</th>\n",
       "      <td>Marketplace</td>\n",
       "      <td>16499</td>\n",
       "      <td>2020-06-12 15:48:08Z</td>\n",
       "      <td>1</td>\n",
       "      <td>Buenos Aires</td>\n",
       "      <td>Olavarria</td>\n",
       "      <td>pickup</td>\n",
       "      <td>7400</td>\n",
       "      <td>Correo Sucursal</td>\n",
       "      <td>Faturado</td>\n",
       "      <td>...</td>\n",
       "      <td>1</td>\n",
       "      <td>/1/50/59/</td>\n",
       "      <td>1 - 1213</td>\n",
       "      <td>16999.0</td>\n",
       "      <td>16999.0</td>\n",
       "      <td>118098.00</td>\n",
       "      <td>x</td>\n",
       "      <td>NaN</td>\n",
       "      <td>NaN</td>\n",
       "      <td>1</td>\n",
       "    </tr>\n",
       "    <tr>\n",
       "      <th>1</th>\n",
       "      <td>Marketplace</td>\n",
       "      <td>5303</td>\n",
       "      <td>2020-06-06 21:04:26Z</td>\n",
       "      <td>2</td>\n",
       "      <td>Córdoba</td>\n",
       "      <td>Córdoba</td>\n",
       "      <td>residential</td>\n",
       "      <td>5014</td>\n",
       "      <td>Correo</td>\n",
       "      <td>Faturado</td>\n",
       "      <td>...</td>\n",
       "      <td>1</td>\n",
       "      <td>/1/34/78/</td>\n",
       "      <td>2 - 0</td>\n",
       "      <td>8999.0</td>\n",
       "      <td>8999.0</td>\n",
       "      <td>63897.99</td>\n",
       "      <td>x</td>\n",
       "      <td>NaN</td>\n",
       "      <td>NaN</td>\n",
       "      <td>1</td>\n",
       "    </tr>\n",
       "    <tr>\n",
       "      <th>2</th>\n",
       "      <td>Marketplace</td>\n",
       "      <td>725</td>\n",
       "      <td>2020-06-01 22:38:00Z</td>\n",
       "      <td>3</td>\n",
       "      <td>Córdoba</td>\n",
       "      <td>Córdoba</td>\n",
       "      <td>residential</td>\n",
       "      <td>5000</td>\n",
       "      <td>Correo</td>\n",
       "      <td>Faturado</td>\n",
       "      <td>...</td>\n",
       "      <td>1</td>\n",
       "      <td>/1/34/78/</td>\n",
       "      <td>3 - 0</td>\n",
       "      <td>9629.1</td>\n",
       "      <td>9629.1</td>\n",
       "      <td>32108.20</td>\n",
       "      <td>x</td>\n",
       "      <td>NaN</td>\n",
       "      <td>NaN</td>\n",
       "      <td>1</td>\n",
       "    </tr>\n",
       "    <tr>\n",
       "      <th>3</th>\n",
       "      <td>Marketplace</td>\n",
       "      <td>25989</td>\n",
       "      <td>2020-06-23 02:05:13Z</td>\n",
       "      <td>4</td>\n",
       "      <td>Buenos Aires</td>\n",
       "      <td>Victoria</td>\n",
       "      <td>pickup</td>\n",
       "      <td>1644</td>\n",
       "      <td>Correo Sucursal</td>\n",
       "      <td>Faturado</td>\n",
       "      <td>...</td>\n",
       "      <td>1</td>\n",
       "      <td>/1/34/78/</td>\n",
       "      <td>4 - 0</td>\n",
       "      <td>35799.0</td>\n",
       "      <td>35799.0</td>\n",
       "      <td>40299.00</td>\n",
       "      <td>NaN</td>\n",
       "      <td>NaN</td>\n",
       "      <td>NaN</td>\n",
       "      <td>1</td>\n",
       "    </tr>\n",
       "    <tr>\n",
       "      <th>4</th>\n",
       "      <td>Marketplace</td>\n",
       "      <td>11137</td>\n",
       "      <td>2020-06-09 10:04:41Z</td>\n",
       "      <td>5</td>\n",
       "      <td>Buenos Aires</td>\n",
       "      <td>Santa Teresita</td>\n",
       "      <td>residential</td>\n",
       "      <td>7107</td>\n",
       "      <td>Correo</td>\n",
       "      <td>Faturado</td>\n",
       "      <td>...</td>\n",
       "      <td>1</td>\n",
       "      <td>/1/34/78/</td>\n",
       "      <td>4 - 0</td>\n",
       "      <td>33499.0</td>\n",
       "      <td>33499.0</td>\n",
       "      <td>67098.00</td>\n",
       "      <td>x</td>\n",
       "      <td>NaN</td>\n",
       "      <td>NaN</td>\n",
       "      <td>1</td>\n",
       "    </tr>\n",
       "  </tbody>\n",
       "</table>\n",
       "<p>5 rows × 21 columns</p>\n",
       "</div>"
      ],
      "text/plain": [
       "        Origin  Sequence         Creation Date  Client Document            UF  \\\n",
       "0  Marketplace     16499  2020-06-12 15:48:08Z                1  Buenos Aires   \n",
       "1  Marketplace      5303  2020-06-06 21:04:26Z                2       Córdoba   \n",
       "2  Marketplace       725  2020-06-01 22:38:00Z                3       Córdoba   \n",
       "3  Marketplace     25989  2020-06-23 02:05:13Z                4  Buenos Aires   \n",
       "4  Marketplace     11137  2020-06-09 10:04:41Z                5  Buenos Aires   \n",
       "\n",
       "             City Address Type  Postal Code         Courrier    Status  ...  \\\n",
       "0       Olavarria       pickup         7400  Correo Sucursal  Faturado  ...   \n",
       "1         Córdoba  residential         5014           Correo  Faturado  ...   \n",
       "2         Córdoba  residential         5000           Correo  Faturado  ...   \n",
       "3        Victoria       pickup         1644  Correo Sucursal  Faturado  ...   \n",
       "4  Santa Teresita  residential         7107           Correo  Faturado  ...   \n",
       "\n",
       "  Quantity_SKU  Category Ids Sku Reference Code SKU Selling Price  \\\n",
       "0            1         /1/50/59/       1 - 1213           16999.0   \n",
       "1            1         /1/34/78/          2 - 0            8999.0   \n",
       "2            1         /1/34/78/          3 - 0            9629.1   \n",
       "3            1         /1/34/78/          4 - 0           35799.0   \n",
       "4            1         /1/34/78/          4 - 0           33499.0   \n",
       "\n",
       "   SKU Total Price  Total Value  Discounts Names Cancelled By  \\\n",
       "0          16999.0    118098.00                x          NaN   \n",
       "1           8999.0     63897.99                x          NaN   \n",
       "2           9629.1     32108.20                x          NaN   \n",
       "3          35799.0     40299.00              NaN          NaN   \n",
       "4          33499.0     67098.00                x          NaN   \n",
       "\n",
       "  Corporate Document  SalesChannel  \n",
       "0                NaN             1  \n",
       "1                NaN             1  \n",
       "2                NaN             1  \n",
       "3                NaN             1  \n",
       "4                NaN             1  \n",
       "\n",
       "[5 rows x 21 columns]"
      ]
     },
     "execution_count": 3,
     "metadata": {},
     "output_type": "execute_result"
    }
   ],
   "source": [
    "# Lectura básica de la cabecera\n",
    "dataset.head()"
   ]
  },
  {
   "cell_type": "code",
   "execution_count": 4,
   "metadata": {},
   "outputs": [
    {
     "name": "stdout",
     "output_type": "stream",
     "text": [
      "<class 'pandas.core.frame.DataFrame'>\n",
      "RangeIndex: 24554 entries, 0 to 24553\n",
      "Data columns (total 21 columns):\n",
      " #   Column              Non-Null Count  Dtype  \n",
      "---  ------              --------------  -----  \n",
      " 0   Origin              24554 non-null  object \n",
      " 1   Sequence            24554 non-null  int64  \n",
      " 2   Creation Date       24554 non-null  object \n",
      " 3   Client Document     24554 non-null  int64  \n",
      " 4   UF                  24554 non-null  object \n",
      " 5   City                24554 non-null  object \n",
      " 6   Address Type        24554 non-null  object \n",
      " 7   Postal Code         24554 non-null  int64  \n",
      " 8   Courrier            24554 non-null  object \n",
      " 9   Status              24554 non-null  object \n",
      " 10  Coupon              609 non-null    object \n",
      " 11  Quantity_SKU        24554 non-null  int64  \n",
      " 12  Category Ids Sku    24554 non-null  object \n",
      " 13  Reference Code      24554 non-null  object \n",
      " 14  SKU Selling Price   24554 non-null  float64\n",
      " 15  SKU Total Price     24554 non-null  float64\n",
      " 16  Total Value         24554 non-null  float64\n",
      " 17  Discounts Names     11319 non-null  object \n",
      " 18  Cancelled By        1671 non-null   object \n",
      " 19  Corporate Document  1318 non-null   float64\n",
      " 20  SalesChannel        24554 non-null  int64  \n",
      "dtypes: float64(4), int64(5), object(12)\n",
      "memory usage: 3.9+ MB\n"
     ]
    }
   ],
   "source": [
    "# Se obtiene información básica de las columnas\n",
    "dataset.info()"
   ]
  },
  {
   "cell_type": "markdown",
   "metadata": {},
   "source": [
    "### <h3 style=\"color:#FFA500; font-weight:bold;\">ETL - Dataset = Articulos</h3>"
   ]
  },
  {
   "cell_type": "code",
   "execution_count": 5,
   "metadata": {},
   "outputs": [],
   "source": [
    "# Conversiones necesarias\n",
    "\n",
    "# Convertir las columnas de identificadores a texto\n",
    "dataset['Client Document'] = dataset['Client Document'].astype(str)\n",
    "dataset['Postal Code'] = dataset['Postal Code'].astype(str)\n",
    "dataset['Corporate Document'] = dataset['Corporate Document'].astype(str)\n",
    "dataset['SalesChannel'] = dataset['SalesChannel'].astype(str)\n",
    "\n",
    "# Convertir 'Creation Date' a datetime\n",
    "dataset['Creation Date'] = pd.to_datetime(dataset['Creation Date'])"
   ]
  },
  {
   "cell_type": "code",
   "execution_count": 6,
   "metadata": {},
   "outputs": [],
   "source": [
    "# Cambiar el nombre de columnas\n",
    "dataset.rename(columns={'UF': 'State'}, inplace=True)"
   ]
  },
  {
   "cell_type": "code",
   "execution_count": 7,
   "metadata": {},
   "outputs": [],
   "source": [
    "# Creación de las columnas necesarias para el analisis objetivo\n",
    "\n",
    "# Extraer el día de la semana (Devuelve números: 0=Lunes, 6=Domingo)\n",
    "dataset['Day of Week'] = dataset['Creation Date'].dt.dayofweek\n",
    "\n",
    "# Extraer el nombre del día\n",
    "dataset['Day Name'] = dataset['Creation Date'].dt.strftime('%A') \n",
    "\n",
    "# Extraer la hora\n",
    "dataset['Hour'] = dataset['Creation Date'].dt.hour"
   ]
  },
  {
   "cell_type": "code",
   "execution_count": 8,
   "metadata": {},
   "outputs": [],
   "source": [
    "# Correción de valores (ETL)\n",
    "\n",
    "# Provincias (States)\n",
    "dataset['State'] = dataset['State'].str.title()\n",
    "dataset['State'] = dataset['State'].replace({\n",
    "    'Cordoba': 'Córdoba',\n",
    "    'Entre Rios': 'Entre Ríos',\n",
    "    'Misiones': 'Misíones',\n",
    "    'Neuquen': 'Neuquén',\n",
    "    'Rio Negro': 'Río Negro',\n",
    "    'Santa Fe': 'Santa Fé',\n",
    "    'Tucuman': 'Tucumán',\n",
    "    'Ciudad Autónoma De Buenos Aires': 'CABA'\n",
    "})\n",
    "\n",
    "# Ciudades (City)\n",
    "dataset['City'] = dataset['City'].str.title()\n",
    "dataset['City'] = dataset['City'].str.strip()\n",
    "dataset['City'] = dataset['City'].str.replace(r'\\s+', ' ', regex=True)\n",
    "dataset['City'] = dataset['City'].apply(unidecode.unidecode)\n",
    "dataset['City'] = dataset['City'].replace({\n",
    "    'Ciudad Autonoma De Buenos Aires': 'CABA',\n",
    "    'C.A.B.A.': 'CABA',\n",
    "    'El Jaguel': 'El Jagüel',\n",
    "    'Emilio Bunge': 'Emilio V. Bunge',\n",
    "    'Joaquin V Gonzalez': 'Joaquin V. Gonzalez',\n",
    "    'Jose C. Paz': 'Jose Clemente Paz',\n",
    "    'Pto.iguazu': 'Puerto Iguazu',\n",
    "    'Pto.madryn': 'Puerto Madryn'\n",
    "})"
   ]
  },
  {
   "cell_type": "code",
   "execution_count": 9,
   "metadata": {},
   "outputs": [
    {
     "data": {
      "text/plain": [
       "Origin                    0\n",
       "Sequence                  0\n",
       "Creation Date             0\n",
       "Client Document           0\n",
       "State                     0\n",
       "City                      0\n",
       "Address Type              0\n",
       "Postal Code               0\n",
       "Courrier                  0\n",
       "Status                    0\n",
       "Coupon                23945\n",
       "Quantity_SKU              0\n",
       "Category Ids Sku          0\n",
       "Reference Code            0\n",
       "SKU Selling Price         0\n",
       "SKU Total Price           0\n",
       "Total Value               0\n",
       "Discounts Names       13235\n",
       "Cancelled By          22883\n",
       "Corporate Document        0\n",
       "SalesChannel              0\n",
       "Day of Week               0\n",
       "Day Name                  0\n",
       "Hour                      0\n",
       "dtype: int64"
      ]
     },
     "execution_count": 9,
     "metadata": {},
     "output_type": "execute_result"
    }
   ],
   "source": [
    "# Revisión de valores nulos\n",
    "dataset.isnull().sum()"
   ]
  },
  {
   "cell_type": "code",
   "execution_count": 10,
   "metadata": {},
   "outputs": [],
   "source": [
    "# TRATAMIENTO DE VALORES NULOS\n",
    "dataset.fillna({'Discounts Names': 'Sin descuento'}, inplace=True)"
   ]
  },
  {
   "cell_type": "markdown",
   "metadata": {},
   "source": [
    "Las columnas 'Coupon' y 'Cancelled By' está bien que tengan valores nulos porque no tienen sentido que rellenen para su caso"
   ]
  },
  {
   "cell_type": "code",
   "execution_count": 11,
   "metadata": {},
   "outputs": [
    {
     "data": {
      "text/plain": [
       "Origin                    0\n",
       "Sequence                  0\n",
       "Creation Date             0\n",
       "Client Document           0\n",
       "State                     0\n",
       "City                      0\n",
       "Address Type              0\n",
       "Postal Code               0\n",
       "Courrier                  0\n",
       "Status                    0\n",
       "Coupon                23945\n",
       "Quantity_SKU              0\n",
       "Category Ids Sku          0\n",
       "Reference Code            0\n",
       "SKU Selling Price         0\n",
       "SKU Total Price           0\n",
       "Total Value               0\n",
       "Discounts Names           0\n",
       "Cancelled By          22883\n",
       "Corporate Document        0\n",
       "SalesChannel              0\n",
       "Day of Week               0\n",
       "Day Name                  0\n",
       "Hour                      0\n",
       "dtype: int64"
      ]
     },
     "execution_count": 11,
     "metadata": {},
     "output_type": "execute_result"
    }
   ],
   "source": [
    "# Verificación de valores nulos\n",
    "dataset.isnull().sum()"
   ]
  },
  {
   "cell_type": "code",
   "execution_count": 12,
   "metadata": {},
   "outputs": [],
   "source": [
    "# Renombrar Columnas al español\n",
    "\n",
    "columnas_originales = [\n",
    "    'Origin', \n",
    "    'Sequence', \n",
    "    'Creation Date', \n",
    "    'Client Document', \n",
    "    'State', \n",
    "    'City', \n",
    "    'Address Type', \n",
    "    'Postal Code', \n",
    "    'Courier', \n",
    "    'Status', \n",
    "    'Coupon', \n",
    "    'Quantity_SKU', \n",
    "    'Category Ids Sku', \n",
    "    'Reference Code', \n",
    "    'SKU Selling Price', \n",
    "    'SKU Total Price', \n",
    "    'Total Value', \n",
    "    'Discounts Names', \n",
    "    'Cancelled By', \n",
    "    'Corporate Document', \n",
    "    'SalesChannel',\n",
    "    'Day of Week',\n",
    "    'Day Name',\n",
    "    'Hour'\n",
    "]\n",
    "\n",
    "nuevos_nombres = [\n",
    "    'Origen', \n",
    "    'Secuencia', \n",
    "    'Fecha de Creación', \n",
    "    'Documento del Cliente', \n",
    "    'Provincia', \n",
    "    'Ciudad', \n",
    "    'Tipo de Dirección', \n",
    "    'Código Postal', \n",
    "    'Transportista', \n",
    "    'Estado', \n",
    "    'Cupón', \n",
    "    'Cantidad_SKU', \n",
    "    'IDs de Categoría SKU', \n",
    "    'Código de Referencia', \n",
    "    'Precio de Venta SKU', \n",
    "    'Precio Total SKU', \n",
    "    'Valor Total', \n",
    "    'Tiene descuento', \n",
    "    'Cancelado Por', \n",
    "    'Documento Corporativo', \n",
    "    'Tienda',\n",
    "    'Día de la Semana',\n",
    "    'Día',\n",
    "    'Hora'\n",
    "]\n",
    "\n",
    "dataset.columns = nuevos_nombres\n"
   ]
  },
  {
   "cell_type": "code",
   "execution_count": 13,
   "metadata": {},
   "outputs": [
    {
     "data": {
      "text/plain": [
       "Index(['Origen', 'Secuencia', 'Fecha de Creación', 'Documento del Cliente',\n",
       "       'Provincia', 'Ciudad', 'Tipo de Dirección', 'Código Postal',\n",
       "       'Transportista', 'Estado', 'Cupón', 'Cantidad_SKU',\n",
       "       'IDs de Categoría SKU', 'Código de Referencia', 'Precio de Venta SKU',\n",
       "       'Precio Total SKU', 'Valor Total', 'Tiene descuento', 'Cancelado Por',\n",
       "       'Documento Corporativo', 'Tienda', 'Día de la Semana', 'Día', 'Hora'],\n",
       "      dtype='object')"
      ]
     },
     "execution_count": 13,
     "metadata": {},
     "output_type": "execute_result"
    }
   ],
   "source": [
    "# Visualización de columnas\n",
    "dataset.columns"
   ]
  },
  {
   "cell_type": "code",
   "execution_count": 14,
   "metadata": {},
   "outputs": [
    {
     "data": {
      "text/html": [
       "<div>\n",
       "<style scoped>\n",
       "    .dataframe tbody tr th:only-of-type {\n",
       "        vertical-align: middle;\n",
       "    }\n",
       "\n",
       "    .dataframe tbody tr th {\n",
       "        vertical-align: top;\n",
       "    }\n",
       "\n",
       "    .dataframe thead th {\n",
       "        text-align: right;\n",
       "    }\n",
       "</style>\n",
       "<table border=\"1\" class=\"dataframe\">\n",
       "  <thead>\n",
       "    <tr style=\"text-align: right;\">\n",
       "      <th></th>\n",
       "      <th>Origen</th>\n",
       "      <th>Secuencia</th>\n",
       "      <th>Fecha de Creación</th>\n",
       "      <th>Documento del Cliente</th>\n",
       "      <th>Provincia</th>\n",
       "      <th>Ciudad</th>\n",
       "      <th>Tipo de Dirección</th>\n",
       "      <th>Código Postal</th>\n",
       "      <th>Transportista</th>\n",
       "      <th>Estado</th>\n",
       "      <th>...</th>\n",
       "      <th>Precio de Venta SKU</th>\n",
       "      <th>Precio Total SKU</th>\n",
       "      <th>Valor Total</th>\n",
       "      <th>Tiene descuento</th>\n",
       "      <th>Cancelado Por</th>\n",
       "      <th>Documento Corporativo</th>\n",
       "      <th>Tienda</th>\n",
       "      <th>Día de la Semana</th>\n",
       "      <th>Día</th>\n",
       "      <th>Hora</th>\n",
       "    </tr>\n",
       "  </thead>\n",
       "  <tbody>\n",
       "    <tr>\n",
       "      <th>24549</th>\n",
       "      <td>Marketplace</td>\n",
       "      <td>46775</td>\n",
       "      <td>2020-07-25 14:31:44+00:00</td>\n",
       "      <td>16372</td>\n",
       "      <td>La Rioja</td>\n",
       "      <td>La Rioja</td>\n",
       "      <td>residential</td>\n",
       "      <td>5300</td>\n",
       "      <td>Correo</td>\n",
       "      <td>Faturado</td>\n",
       "      <td>...</td>\n",
       "      <td>53099.0</td>\n",
       "      <td>53099.0</td>\n",
       "      <td>68598.0</td>\n",
       "      <td>Sin descuento</td>\n",
       "      <td>NaN</td>\n",
       "      <td>nan</td>\n",
       "      <td>4</td>\n",
       "      <td>5</td>\n",
       "      <td>sábado</td>\n",
       "      <td>14</td>\n",
       "    </tr>\n",
       "    <tr>\n",
       "      <th>24550</th>\n",
       "      <td>Marketplace</td>\n",
       "      <td>45615</td>\n",
       "      <td>2020-07-21 22:27:32+00:00</td>\n",
       "      <td>17165</td>\n",
       "      <td>Buenos Aires</td>\n",
       "      <td>Moron</td>\n",
       "      <td>residential</td>\n",
       "      <td>1708</td>\n",
       "      <td>Correo</td>\n",
       "      <td>Faturado</td>\n",
       "      <td>...</td>\n",
       "      <td>56899.0</td>\n",
       "      <td>56899.0</td>\n",
       "      <td>61399.0</td>\n",
       "      <td>Sin descuento</td>\n",
       "      <td>NaN</td>\n",
       "      <td>nan</td>\n",
       "      <td>1</td>\n",
       "      <td>1</td>\n",
       "      <td>martes</td>\n",
       "      <td>22</td>\n",
       "    </tr>\n",
       "    <tr>\n",
       "      <th>24551</th>\n",
       "      <td>Marketplace</td>\n",
       "      <td>42739</td>\n",
       "      <td>2020-07-16 14:27:19+00:00</td>\n",
       "      <td>16704</td>\n",
       "      <td>Buenos Aires</td>\n",
       "      <td>Juan Maria Gutierrez</td>\n",
       "      <td>residential</td>\n",
       "      <td>1890</td>\n",
       "      <td>Correo</td>\n",
       "      <td>Faturado</td>\n",
       "      <td>...</td>\n",
       "      <td>56899.0</td>\n",
       "      <td>56899.0</td>\n",
       "      <td>61399.0</td>\n",
       "      <td>Sin descuento</td>\n",
       "      <td>NaN</td>\n",
       "      <td>nan</td>\n",
       "      <td>1</td>\n",
       "      <td>3</td>\n",
       "      <td>jueves</td>\n",
       "      <td>14</td>\n",
       "    </tr>\n",
       "    <tr>\n",
       "      <th>24552</th>\n",
       "      <td>Marketplace</td>\n",
       "      <td>35365</td>\n",
       "      <td>2020-07-05 18:53:56+00:00</td>\n",
       "      <td>17166</td>\n",
       "      <td>Buenos Aires</td>\n",
       "      <td>Mar Del Plata</td>\n",
       "      <td>pickup</td>\n",
       "      <td>7600</td>\n",
       "      <td>Correo Sucursal</td>\n",
       "      <td>Faturado</td>\n",
       "      <td>...</td>\n",
       "      <td>56899.0</td>\n",
       "      <td>56899.0</td>\n",
       "      <td>61399.0</td>\n",
       "      <td>Sin descuento</td>\n",
       "      <td>NaN</td>\n",
       "      <td>nan</td>\n",
       "      <td>1</td>\n",
       "      <td>6</td>\n",
       "      <td>domingo</td>\n",
       "      <td>18</td>\n",
       "    </tr>\n",
       "    <tr>\n",
       "      <th>24553</th>\n",
       "      <td>Marketplace</td>\n",
       "      <td>35177</td>\n",
       "      <td>2020-07-05 14:21:16+00:00</td>\n",
       "      <td>12277</td>\n",
       "      <td>Buenos Aires</td>\n",
       "      <td>CABA</td>\n",
       "      <td>pickup</td>\n",
       "      <td>1013</td>\n",
       "      <td>Correo Sucursal</td>\n",
       "      <td>Faturado</td>\n",
       "      <td>...</td>\n",
       "      <td>9299.0</td>\n",
       "      <td>9299.0</td>\n",
       "      <td>51998.0</td>\n",
       "      <td>Sin descuento</td>\n",
       "      <td>NaN</td>\n",
       "      <td>nan</td>\n",
       "      <td>1</td>\n",
       "      <td>6</td>\n",
       "      <td>domingo</td>\n",
       "      <td>14</td>\n",
       "    </tr>\n",
       "  </tbody>\n",
       "</table>\n",
       "<p>5 rows × 24 columns</p>\n",
       "</div>"
      ],
      "text/plain": [
       "            Origen  Secuencia         Fecha de Creación Documento del Cliente  \\\n",
       "24549  Marketplace      46775 2020-07-25 14:31:44+00:00                 16372   \n",
       "24550  Marketplace      45615 2020-07-21 22:27:32+00:00                 17165   \n",
       "24551  Marketplace      42739 2020-07-16 14:27:19+00:00                 16704   \n",
       "24552  Marketplace      35365 2020-07-05 18:53:56+00:00                 17166   \n",
       "24553  Marketplace      35177 2020-07-05 14:21:16+00:00                 12277   \n",
       "\n",
       "          Provincia                Ciudad Tipo de Dirección Código Postal  \\\n",
       "24549      La Rioja              La Rioja       residential          5300   \n",
       "24550  Buenos Aires                 Moron       residential          1708   \n",
       "24551  Buenos Aires  Juan Maria Gutierrez       residential          1890   \n",
       "24552  Buenos Aires         Mar Del Plata            pickup          7600   \n",
       "24553  Buenos Aires                  CABA            pickup          1013   \n",
       "\n",
       "         Transportista    Estado  ... Precio de Venta SKU  Precio Total SKU  \\\n",
       "24549           Correo  Faturado  ...             53099.0           53099.0   \n",
       "24550           Correo  Faturado  ...             56899.0           56899.0   \n",
       "24551           Correo  Faturado  ...             56899.0           56899.0   \n",
       "24552  Correo Sucursal  Faturado  ...             56899.0           56899.0   \n",
       "24553  Correo Sucursal  Faturado  ...              9299.0            9299.0   \n",
       "\n",
       "      Valor Total Tiene descuento  Cancelado Por  Documento Corporativo  \\\n",
       "24549     68598.0   Sin descuento            NaN                    nan   \n",
       "24550     61399.0   Sin descuento            NaN                    nan   \n",
       "24551     61399.0   Sin descuento            NaN                    nan   \n",
       "24552     61399.0   Sin descuento            NaN                    nan   \n",
       "24553     51998.0   Sin descuento            NaN                    nan   \n",
       "\n",
       "       Tienda Día de la Semana      Día Hora  \n",
       "24549       4                5   sábado   14  \n",
       "24550       1                1   martes   22  \n",
       "24551       1                3   jueves   14  \n",
       "24552       1                6  domingo   18  \n",
       "24553       1                6  domingo   14  \n",
       "\n",
       "[5 rows x 24 columns]"
      ]
     },
     "execution_count": 14,
     "metadata": {},
     "output_type": "execute_result"
    }
   ],
   "source": [
    "dataset.tail()"
   ]
  },
  {
   "cell_type": "code",
   "execution_count": 15,
   "metadata": {},
   "outputs": [
    {
     "name": "stdout",
     "output_type": "stream",
     "text": [
      "<class 'pandas.core.frame.DataFrame'>\n",
      "RangeIndex: 24554 entries, 0 to 24553\n",
      "Data columns (total 24 columns):\n",
      " #   Column                 Non-Null Count  Dtype              \n",
      "---  ------                 --------------  -----              \n",
      " 0   Origen                 24554 non-null  object             \n",
      " 1   Secuencia              24554 non-null  int64              \n",
      " 2   Fecha de Creación      24554 non-null  datetime64[ns, UTC]\n",
      " 3   Documento del Cliente  24554 non-null  object             \n",
      " 4   Provincia              24554 non-null  object             \n",
      " 5   Ciudad                 24554 non-null  object             \n",
      " 6   Tipo de Dirección      24554 non-null  object             \n",
      " 7   Código Postal          24554 non-null  object             \n",
      " 8   Transportista          24554 non-null  object             \n",
      " 9   Estado                 24554 non-null  object             \n",
      " 10  Cupón                  609 non-null    object             \n",
      " 11  Cantidad_SKU           24554 non-null  int64              \n",
      " 12  IDs de Categoría SKU   24554 non-null  object             \n",
      " 13  Código de Referencia   24554 non-null  object             \n",
      " 14  Precio de Venta SKU    24554 non-null  float64            \n",
      " 15  Precio Total SKU       24554 non-null  float64            \n",
      " 16  Valor Total            24554 non-null  float64            \n",
      " 17  Tiene descuento        24554 non-null  object             \n",
      " 18  Cancelado Por          1671 non-null   object             \n",
      " 19  Documento Corporativo  24554 non-null  object             \n",
      " 20  Tienda                 24554 non-null  object             \n",
      " 21  Día de la Semana       24554 non-null  int32              \n",
      " 22  Día                    24554 non-null  object             \n",
      " 23  Hora                   24554 non-null  int32              \n",
      "dtypes: datetime64[ns, UTC](1), float64(3), int32(2), int64(2), object(16)\n",
      "memory usage: 4.3+ MB\n"
     ]
    }
   ],
   "source": [
    "# Se obtiene nuevamente información básica de las columnas para verificación\n",
    "dataset.info()"
   ]
  },
  {
   "cell_type": "markdown",
   "metadata": {},
   "source": [
    "### <h3 style=\"color:#FFA500; font-weight:bold;\">ETL - Pedidos = Dataset Ventas (articulos agrupados)</h3>"
   ]
  },
  {
   "cell_type": "code",
   "execution_count": 16,
   "metadata": {},
   "outputs": [],
   "source": [
    "# Creacion de Pedidos\n",
    "pedidos = dataset.groupby('Secuencia').agg(\n",
    "    Origen=('Origen', 'first'),  # Tomar el primer valor\n",
    "    Fecha=('Fecha de Creación', 'first'),  # Tomar el primer valor\n",
    "    Documento_Cliente=('Documento del Cliente', 'first'),  # Tomar el primer valor\n",
    "    Provincia=('Provincia', 'first'),  # Tomar el primer valor\n",
    "    Ciudad=('Ciudad', 'first'),  # Tomar el primer valor\n",
    "    Tipo_Dirección=('Tipo de Dirección', 'first'),  # Tomar el primer valor\n",
    "    Código_Postal=('Código Postal', 'first'),  # Tomar el primer valor\n",
    "    Transportista=('Transportista', 'first'),  # Tomar el primer valor\n",
    "    Estado=('Estado', 'first'), # Tomar el primer valor\n",
    "    Cupón=('Cupón', 'first'),  # Tomar el primer valor del cupón (o None si no hay)\n",
    "    Cantidad_SKU=('Cantidad_SKU', 'sum'),  # Sumar la cantidad de SKU\n",
    "    Precio_Promedio=('Precio de Venta SKU', 'mean'),  # Calcular el precio promedio por SKU\n",
    "    Valor_Total=('Valor Total', 'first'),   # El valor ya viene siendo el total\n",
    "    Discount=('Tiene descuento', 'first'), # Tomar el primer valor\n",
    "    Cancelado_Por=('Cancelado Por', 'first'),  # Tomar el primer valor\n",
    "    Documento_Corporativo=('Documento Corporativo', 'first'),  # Tomar el primer valor\n",
    "    Tienda=('Tienda', 'first'),  # Tomar el primer valor\n",
    "    Dia_de_la_Semana=('Día de la Semana', 'first'),  # Tomar el primer valor\n",
    "    Dia=('Día', 'first'),  # Tomar el primer valor\n",
    "    Hora=('Hora', 'first')  # Tomar la primera hora\n",
    ").reset_index() \n",
    "pedidos.set_index('Secuencia', inplace=True)"
   ]
  },
  {
   "cell_type": "code",
   "execution_count": 17,
   "metadata": {},
   "outputs": [
    {
     "data": {
      "text/html": [
       "<div>\n",
       "<style scoped>\n",
       "    .dataframe tbody tr th:only-of-type {\n",
       "        vertical-align: middle;\n",
       "    }\n",
       "\n",
       "    .dataframe tbody tr th {\n",
       "        vertical-align: top;\n",
       "    }\n",
       "\n",
       "    .dataframe thead th {\n",
       "        text-align: right;\n",
       "    }\n",
       "</style>\n",
       "<table border=\"1\" class=\"dataframe\">\n",
       "  <thead>\n",
       "    <tr style=\"text-align: right;\">\n",
       "      <th></th>\n",
       "      <th>Origen</th>\n",
       "      <th>Fecha</th>\n",
       "      <th>Documento_Cliente</th>\n",
       "      <th>Provincia</th>\n",
       "      <th>Ciudad</th>\n",
       "      <th>Tipo_Dirección</th>\n",
       "      <th>Código_Postal</th>\n",
       "      <th>Transportista</th>\n",
       "      <th>Estado</th>\n",
       "      <th>Cupón</th>\n",
       "      <th>Cantidad_SKU</th>\n",
       "      <th>Precio_Promedio</th>\n",
       "      <th>Valor_Total</th>\n",
       "      <th>Discount</th>\n",
       "      <th>Cancelado_Por</th>\n",
       "      <th>Documento_Corporativo</th>\n",
       "      <th>Tienda</th>\n",
       "      <th>Dia_de_la_Semana</th>\n",
       "      <th>Dia</th>\n",
       "      <th>Hora</th>\n",
       "    </tr>\n",
       "    <tr>\n",
       "      <th>Secuencia</th>\n",
       "      <th></th>\n",
       "      <th></th>\n",
       "      <th></th>\n",
       "      <th></th>\n",
       "      <th></th>\n",
       "      <th></th>\n",
       "      <th></th>\n",
       "      <th></th>\n",
       "      <th></th>\n",
       "      <th></th>\n",
       "      <th></th>\n",
       "      <th></th>\n",
       "      <th></th>\n",
       "      <th></th>\n",
       "      <th></th>\n",
       "      <th></th>\n",
       "      <th></th>\n",
       "      <th></th>\n",
       "      <th></th>\n",
       "      <th></th>\n",
       "    </tr>\n",
       "  </thead>\n",
       "  <tbody>\n",
       "    <tr>\n",
       "      <th>1</th>\n",
       "      <td>Marketplace</td>\n",
       "      <td>2020-06-01 00:37:05+00:00</td>\n",
       "      <td>9676</td>\n",
       "      <td>Santa Cruz</td>\n",
       "      <td>Rio Gallegos</td>\n",
       "      <td>residential</td>\n",
       "      <td>9400</td>\n",
       "      <td>Correo</td>\n",
       "      <td>Faturado</td>\n",
       "      <td>None</td>\n",
       "      <td>1</td>\n",
       "      <td>40699.00</td>\n",
       "      <td>44199.0</td>\n",
       "      <td>Sin descuento</td>\n",
       "      <td>None</td>\n",
       "      <td>nan</td>\n",
       "      <td>1</td>\n",
       "      <td>0</td>\n",
       "      <td>lunes</td>\n",
       "      <td>0</td>\n",
       "    </tr>\n",
       "    <tr>\n",
       "      <th>3</th>\n",
       "      <td>Fulfillment</td>\n",
       "      <td>2020-06-01 00:40:58+00:00</td>\n",
       "      <td>9643</td>\n",
       "      <td>La Pampa</td>\n",
       "      <td>Santa Rosa</td>\n",
       "      <td>residential</td>\n",
       "      <td>6300</td>\n",
       "      <td>Correo</td>\n",
       "      <td>Faturado</td>\n",
       "      <td>None</td>\n",
       "      <td>1</td>\n",
       "      <td>7040.00</td>\n",
       "      <td>7040.0</td>\n",
       "      <td>Sin descuento</td>\n",
       "      <td>None</td>\n",
       "      <td>nan</td>\n",
       "      <td>1</td>\n",
       "      <td>0</td>\n",
       "      <td>lunes</td>\n",
       "      <td>0</td>\n",
       "    </tr>\n",
       "    <tr>\n",
       "      <th>5</th>\n",
       "      <td>Marketplace</td>\n",
       "      <td>2020-06-01 00:45:04+00:00</td>\n",
       "      <td>7461</td>\n",
       "      <td>Santa Fé</td>\n",
       "      <td>Canada De Gomez</td>\n",
       "      <td>residential</td>\n",
       "      <td>2500</td>\n",
       "      <td>Correo</td>\n",
       "      <td>Faturado</td>\n",
       "      <td>None</td>\n",
       "      <td>1</td>\n",
       "      <td>22945.00</td>\n",
       "      <td>26445.0</td>\n",
       "      <td>Sin descuento</td>\n",
       "      <td>None</td>\n",
       "      <td>nan</td>\n",
       "      <td>2</td>\n",
       "      <td>0</td>\n",
       "      <td>lunes</td>\n",
       "      <td>0</td>\n",
       "    </tr>\n",
       "    <tr>\n",
       "      <th>7</th>\n",
       "      <td>Marketplace</td>\n",
       "      <td>2020-06-01 00:52:17+00:00</td>\n",
       "      <td>310</td>\n",
       "      <td>Buenos Aires</td>\n",
       "      <td>Zarate</td>\n",
       "      <td>residential</td>\n",
       "      <td>2800</td>\n",
       "      <td>Correo</td>\n",
       "      <td>Cancelado</td>\n",
       "      <td>None</td>\n",
       "      <td>1</td>\n",
       "      <td>45199.00</td>\n",
       "      <td>45199.0</td>\n",
       "      <td>x</td>\n",
       "      <td>empleado</td>\n",
       "      <td>418.0</td>\n",
       "      <td>1</td>\n",
       "      <td>0</td>\n",
       "      <td>lunes</td>\n",
       "      <td>0</td>\n",
       "    </tr>\n",
       "    <tr>\n",
       "      <th>9</th>\n",
       "      <td>Marketplace</td>\n",
       "      <td>2020-06-01 00:58:06+00:00</td>\n",
       "      <td>7782</td>\n",
       "      <td>Córdoba</td>\n",
       "      <td>Oliva</td>\n",
       "      <td>residential</td>\n",
       "      <td>5980</td>\n",
       "      <td>Correo</td>\n",
       "      <td>Faturado</td>\n",
       "      <td>None</td>\n",
       "      <td>4</td>\n",
       "      <td>18036.75</td>\n",
       "      <td>72147.0</td>\n",
       "      <td>x</td>\n",
       "      <td>None</td>\n",
       "      <td>nan</td>\n",
       "      <td>1</td>\n",
       "      <td>0</td>\n",
       "      <td>lunes</td>\n",
       "      <td>0</td>\n",
       "    </tr>\n",
       "  </tbody>\n",
       "</table>\n",
       "</div>"
      ],
      "text/plain": [
       "                Origen                     Fecha Documento_Cliente  \\\n",
       "Secuencia                                                            \n",
       "1          Marketplace 2020-06-01 00:37:05+00:00              9676   \n",
       "3          Fulfillment 2020-06-01 00:40:58+00:00              9643   \n",
       "5          Marketplace 2020-06-01 00:45:04+00:00              7461   \n",
       "7          Marketplace 2020-06-01 00:52:17+00:00               310   \n",
       "9          Marketplace 2020-06-01 00:58:06+00:00              7782   \n",
       "\n",
       "              Provincia           Ciudad Tipo_Dirección Código_Postal  \\\n",
       "Secuencia                                                               \n",
       "1            Santa Cruz     Rio Gallegos    residential          9400   \n",
       "3              La Pampa       Santa Rosa    residential          6300   \n",
       "5              Santa Fé  Canada De Gomez    residential          2500   \n",
       "7          Buenos Aires           Zarate    residential          2800   \n",
       "9               Córdoba            Oliva    residential          5980   \n",
       "\n",
       "          Transportista     Estado Cupón  Cantidad_SKU  Precio_Promedio  \\\n",
       "Secuencia                                                                 \n",
       "1                Correo   Faturado  None             1         40699.00   \n",
       "3                Correo   Faturado  None             1          7040.00   \n",
       "5                Correo   Faturado  None             1         22945.00   \n",
       "7                Correo  Cancelado  None             1         45199.00   \n",
       "9                Correo   Faturado  None             4         18036.75   \n",
       "\n",
       "           Valor_Total       Discount Cancelado_Por Documento_Corporativo  \\\n",
       "Secuencia                                                                   \n",
       "1              44199.0  Sin descuento          None                   nan   \n",
       "3               7040.0  Sin descuento          None                   nan   \n",
       "5              26445.0  Sin descuento          None                   nan   \n",
       "7              45199.0              x      empleado                 418.0   \n",
       "9              72147.0              x          None                   nan   \n",
       "\n",
       "          Tienda  Dia_de_la_Semana    Dia  Hora  \n",
       "Secuencia                                        \n",
       "1              1                 0  lunes     0  \n",
       "3              1                 0  lunes     0  \n",
       "5              2                 0  lunes     0  \n",
       "7              1                 0  lunes     0  \n",
       "9              1                 0  lunes     0  "
      ]
     },
     "execution_count": 17,
     "metadata": {},
     "output_type": "execute_result"
    }
   ],
   "source": [
    "pedidos.head()"
   ]
  },
  {
   "cell_type": "code",
   "execution_count": 18,
   "metadata": {},
   "outputs": [
    {
     "data": {
      "text/html": [
       "<div>\n",
       "<style scoped>\n",
       "    .dataframe tbody tr th:only-of-type {\n",
       "        vertical-align: middle;\n",
       "    }\n",
       "\n",
       "    .dataframe tbody tr th {\n",
       "        vertical-align: top;\n",
       "    }\n",
       "\n",
       "    .dataframe thead th {\n",
       "        text-align: right;\n",
       "    }\n",
       "</style>\n",
       "<table border=\"1\" class=\"dataframe\">\n",
       "  <thead>\n",
       "    <tr style=\"text-align: right;\">\n",
       "      <th></th>\n",
       "      <th>Cantidad_SKU</th>\n",
       "      <th>Precio_Promedio</th>\n",
       "      <th>Valor_Total</th>\n",
       "      <th>Dia_de_la_Semana</th>\n",
       "      <th>Hora</th>\n",
       "    </tr>\n",
       "  </thead>\n",
       "  <tbody>\n",
       "    <tr>\n",
       "      <th>count</th>\n",
       "      <td>18815.000000</td>\n",
       "      <td>1.881500e+04</td>\n",
       "      <td>1.881500e+04</td>\n",
       "      <td>18815.000000</td>\n",
       "      <td>18815.000000</td>\n",
       "    </tr>\n",
       "    <tr>\n",
       "      <th>mean</th>\n",
       "      <td>1.336646</td>\n",
       "      <td>4.977260e+04</td>\n",
       "      <td>6.032115e+04</td>\n",
       "      <td>3.021260</td>\n",
       "      <td>14.421525</td>\n",
       "    </tr>\n",
       "    <tr>\n",
       "      <th>std</th>\n",
       "      <td>0.935682</td>\n",
       "      <td>4.057190e+04</td>\n",
       "      <td>4.524146e+04</td>\n",
       "      <td>2.077988</td>\n",
       "      <td>5.928832</td>\n",
       "    </tr>\n",
       "    <tr>\n",
       "      <th>min</th>\n",
       "      <td>1.000000</td>\n",
       "      <td>1.990000e+02</td>\n",
       "      <td>1.990000e+02</td>\n",
       "      <td>0.000000</td>\n",
       "      <td>0.000000</td>\n",
       "    </tr>\n",
       "    <tr>\n",
       "      <th>25%</th>\n",
       "      <td>1.000000</td>\n",
       "      <td>2.320000e+04</td>\n",
       "      <td>3.149900e+04</td>\n",
       "      <td>1.000000</td>\n",
       "      <td>11.000000</td>\n",
       "    </tr>\n",
       "    <tr>\n",
       "      <th>50%</th>\n",
       "      <td>1.000000</td>\n",
       "      <td>4.031910e+04</td>\n",
       "      <td>5.379900e+04</td>\n",
       "      <td>3.000000</td>\n",
       "      <td>15.000000</td>\n",
       "    </tr>\n",
       "    <tr>\n",
       "      <th>75%</th>\n",
       "      <td>1.000000</td>\n",
       "      <td>6.499900e+04</td>\n",
       "      <td>7.456000e+04</td>\n",
       "      <td>5.000000</td>\n",
       "      <td>19.000000</td>\n",
       "    </tr>\n",
       "    <tr>\n",
       "      <th>max</th>\n",
       "      <td>26.000000</td>\n",
       "      <td>1.119499e+06</td>\n",
       "      <td>1.119499e+06</td>\n",
       "      <td>6.000000</td>\n",
       "      <td>23.000000</td>\n",
       "    </tr>\n",
       "  </tbody>\n",
       "</table>\n",
       "</div>"
      ],
      "text/plain": [
       "       Cantidad_SKU  Precio_Promedio   Valor_Total  Dia_de_la_Semana  \\\n",
       "count  18815.000000     1.881500e+04  1.881500e+04      18815.000000   \n",
       "mean       1.336646     4.977260e+04  6.032115e+04          3.021260   \n",
       "std        0.935682     4.057190e+04  4.524146e+04          2.077988   \n",
       "min        1.000000     1.990000e+02  1.990000e+02          0.000000   \n",
       "25%        1.000000     2.320000e+04  3.149900e+04          1.000000   \n",
       "50%        1.000000     4.031910e+04  5.379900e+04          3.000000   \n",
       "75%        1.000000     6.499900e+04  7.456000e+04          5.000000   \n",
       "max       26.000000     1.119499e+06  1.119499e+06          6.000000   \n",
       "\n",
       "               Hora  \n",
       "count  18815.000000  \n",
       "mean      14.421525  \n",
       "std        5.928832  \n",
       "min        0.000000  \n",
       "25%       11.000000  \n",
       "50%       15.000000  \n",
       "75%       19.000000  \n",
       "max       23.000000  "
      ]
     },
     "execution_count": 18,
     "metadata": {},
     "output_type": "execute_result"
    }
   ],
   "source": [
    "# Análisis describe\n",
    "pedidos.describe()"
   ]
  },
  {
   "cell_type": "code",
   "execution_count": 19,
   "metadata": {},
   "outputs": [
    {
     "name": "stdout",
     "output_type": "stream",
     "text": [
      "<class 'pandas.core.frame.DataFrame'>\n",
      "Index: 18815 entries, 1 to 49105\n",
      "Data columns (total 20 columns):\n",
      " #   Column                 Non-Null Count  Dtype              \n",
      "---  ------                 --------------  -----              \n",
      " 0   Origen                 18815 non-null  object             \n",
      " 1   Fecha                  18815 non-null  datetime64[ns, UTC]\n",
      " 2   Documento_Cliente      18815 non-null  object             \n",
      " 3   Provincia              18815 non-null  object             \n",
      " 4   Ciudad                 18815 non-null  object             \n",
      " 5   Tipo_Dirección         18815 non-null  object             \n",
      " 6   Código_Postal          18815 non-null  object             \n",
      " 7   Transportista          18815 non-null  object             \n",
      " 8   Estado                 18815 non-null  object             \n",
      " 9   Cupón                  418 non-null    object             \n",
      " 10  Cantidad_SKU           18815 non-null  int64              \n",
      " 11  Precio_Promedio        18815 non-null  float64            \n",
      " 12  Valor_Total            18815 non-null  float64            \n",
      " 13  Discount               18815 non-null  object             \n",
      " 14  Cancelado_Por          1310 non-null   object             \n",
      " 15  Documento_Corporativo  18815 non-null  object             \n",
      " 16  Tienda                 18815 non-null  object             \n",
      " 17  Dia_de_la_Semana       18815 non-null  int32              \n",
      " 18  Dia                    18815 non-null  object             \n",
      " 19  Hora                   18815 non-null  int32              \n",
      "dtypes: datetime64[ns, UTC](1), float64(2), int32(2), int64(1), object(14)\n",
      "memory usage: 2.9+ MB\n"
     ]
    }
   ],
   "source": [
    "# Info de Pedidos\n",
    "pedidos.info()"
   ]
  },
  {
   "cell_type": "markdown",
   "metadata": {},
   "source": [
    "### <h3 style=\"color:#FFA500; font-weight:bold;\">Análisis Esploratorio</h3>"
   ]
  },
  {
   "cell_type": "code",
   "execution_count": 20,
   "metadata": {},
   "outputs": [
    {
     "data": {
      "text/plain": [
       "Hora\n",
       "0      698\n",
       "1      433\n",
       "2      184\n",
       "3      145\n",
       "4       73\n",
       "5       71\n",
       "6      102\n",
       "7      275\n",
       "8      489\n",
       "9      748\n",
       "10     992\n",
       "11    1235\n",
       "12    1216\n",
       "13    1141\n",
       "14    1192\n",
       "15    1056\n",
       "16    1035\n",
       "17    1043\n",
       "18    1123\n",
       "19    1141\n",
       "20    1187\n",
       "21    1218\n",
       "22    1097\n",
       "23     921\n",
       "Name: count, dtype: int64"
      ]
     },
     "execution_count": 20,
     "metadata": {},
     "output_type": "execute_result"
    }
   ],
   "source": [
    "# Análisis por hora\n",
    "conteo_horas = pedidos['Hora'].value_counts().sort_index()\n",
    "conteo_horas"
   ]
  },
  {
   "cell_type": "markdown",
   "metadata": {},
   "source": [
    "Según el conteo de horas, se observa un pico de operaciones hacia el medio día y a última hora, y, como se espera, en la madrugada se reduce drásticamente."
   ]
  },
  {
   "cell_type": "code",
   "execution_count": 29,
   "metadata": {},
   "outputs": [
    {
     "data": {
      "text/plain": [
       "Dia_de_la_Semana\n",
       "0    2948\n",
       "1    2672\n",
       "2    2683\n",
       "3    2227\n",
       "4    2350\n",
       "5    2884\n",
       "6    3051\n",
       "Name: count, dtype: int64"
      ]
     },
     "execution_count": 29,
     "metadata": {},
     "output_type": "execute_result"
    }
   ],
   "source": [
    "# Análisis por día (dia 0 = Lunes)\n",
    "conteo_dias = pedidos['Dia_de_la_Semana'].value_counts().sort_index()\n",
    "conteo_dias"
   ]
  },
  {
   "cell_type": "markdown",
   "metadata": {},
   "source": [
    "Se observa que el dáa de más ventas es el domingo y el de menor ventas el jueves"
   ]
  },
  {
   "cell_type": "code",
   "execution_count": 22,
   "metadata": {},
   "outputs": [
    {
     "data": {
      "text/plain": [
       "Provincia\n",
       "Buenos Aires           4728\n",
       "CABA                   1104\n",
       "Capital Federal         192\n",
       "Catamarca               139\n",
       "Chaco                   270\n",
       "Chubut                  289\n",
       "Corrientes              257\n",
       "Córdoba                6616\n",
       "Entre Ríos              455\n",
       "Formosa                 134\n",
       "Jujuy                   192\n",
       "La Pampa                192\n",
       "La Rioja                161\n",
       "Mendoza                 400\n",
       "Misíones                268\n",
       "Neuquén                 450\n",
       "Río Negro               394\n",
       "Salta                   337\n",
       "San Juan                136\n",
       "San Luis                252\n",
       "Santa Cruz              281\n",
       "Santa Fé               1028\n",
       "Santiago Del Estero     229\n",
       "Tierra Del Fuego         45\n",
       "Tucumán                 266\n",
       "Name: count, dtype: int64"
      ]
     },
     "execution_count": 22,
     "metadata": {},
     "output_type": "execute_result"
    }
   ],
   "source": [
    "# Análisis por provincias\n",
    "conteo_provincias = pedidos['Provincia'].value_counts().sort_index()\n",
    "conteo_provincias"
   ]
  },
  {
   "cell_type": "code",
   "execution_count": 30,
   "metadata": {},
   "outputs": [
    {
     "name": "stdout",
     "output_type": "stream",
     "text": [
      "Ventas en Córdoba: 6616\n",
      "Total de Ventas: 18815\n",
      "Procentaje de Córdoba: 35.2\n"
     ]
    }
   ],
   "source": [
    "# Relación porcentual Cordoba\n",
    "cantVentas = sum(conteo_provincias)\n",
    "porcentajeCordoba = conteo_provincias['Córdoba']/ cantVentas if cantVentas > 0 else 0\n",
    "print('Ventas en Córdoba:', conteo_provincias['Córdoba'])\n",
    "print('Total de Ventas:', cantVentas)\n",
    "print('Procentaje de Córdoba:', round(porcentajeCordoba*100,1))"
   ]
  },
  {
   "cell_type": "markdown",
   "metadata": {},
   "source": [
    "El porcentaje de ventas en Córdoba es mucho menor al esperado, siendo Gran Buenos Aires una fuente importante de ventas"
   ]
  },
  {
   "cell_type": "code",
   "execution_count": 24,
   "metadata": {},
   "outputs": [
    {
     "data": {
      "text/plain": [
       "Tienda\n",
       "1    10293\n",
       "2     2841\n",
       "3     3096\n",
       "4     2279\n",
       "5      306\n",
       "Name: count, dtype: int64"
      ]
     },
     "execution_count": 24,
     "metadata": {},
     "output_type": "execute_result"
    }
   ],
   "source": [
    "# Análisis por tienda\n",
    "conteo_tiendas = pedidos['Tienda'].value_counts().sort_index()\n",
    "conteo_tiendas"
   ]
  },
  {
   "cell_type": "code",
   "execution_count": 31,
   "metadata": {},
   "outputs": [
    {
     "name": "stdout",
     "output_type": "stream",
     "text": [
      "Ventas del Grupo 1: 16230\n",
      "Total de Ventas: 18815\n",
      "Procentaje del Grupo 1: 86.3\n"
     ]
    }
   ],
   "source": [
    "# Relación porcentual Tiendas (grupo 1)\n",
    "cantVentasG = sum(conteo_tiendas)\n",
    "Grupo1 = conteo_tiendas[['1', '2', '3']].sum()\n",
    "pGrupo1 = Grupo1 / cantVentasG if cantVentasG > 0 else 0 \n",
    "print('Ventas del Grupo 1:', Grupo1)\n",
    "print('Total de Ventas:', cantVentasG)\n",
    "print('Procentaje del Grupo 1:', round(pGrupo1*100,1))"
   ]
  },
  {
   "cell_type": "markdown",
   "metadata": {},
   "source": [
    "El porcentaje del Grupo de tiendas 1 supera al esperado"
   ]
  },
  {
   "cell_type": "markdown",
   "metadata": {},
   "source": [
    "## <h2 style=\"color:#FFD700; font-weight:bold;\">Graficación</h2>"
   ]
  },
  {
   "cell_type": "markdown",
   "metadata": {},
   "source": [
    "### <h3 style=\"color:#FF1493; font-weight:bold;\">Hipótesis 1: Distribución geográfica</h3>\n",
    "Dado que la sede principal de la empresa se encuentra en Córdoba, se espera que al menos el 70% de las ventas provengan de esta localidad."
   ]
  },
  {
   "cell_type": "markdown",
   "metadata": {},
   "source": [
    "#### <h4 style=\"color:#B87333; font-weight:bold;\">VISUALIZACIÓN PROPORCIÓN DE CORDOBA</h4> \n",
    "Visualizaremos cuanto representa las ventas de Córdoba respecto a las demás provincias"
   ]
  },
  {
   "cell_type": "code",
   "execution_count": 51,
   "metadata": {},
   "outputs": [
    {
     "data": {
      "image/png": "[encoded data removed]",
      "text/plain": [
       "<Figure size 800x600 with 1 Axes>"
      ]
     },
     "metadata": {},
     "output_type": "display_data"
    }
   ],
   "source": [
    "# Reutilizamos la variable \"conteo_provincias\" de Pedidos - \"cantVentas\" o total de ventas se reutiliza\n",
    "\n",
    "# Separar Córdoba y agrupar el resto como \"Resto de Provincias\"\n",
    "conteo_cordoba = conteo_provincias['Córdoba']\n",
    "conteo_resto_prov = conteo_provincias.drop('Córdoba').sum()\n",
    "\n",
    "# Crear un nuevo Series con Córdoba y el resto\n",
    "ventas_agrupadas = pd.Series([conteo_cordoba, conteo_resto_prov], index=['Córdoba', 'Resto de Provincias'])\n",
    "\n",
    "# Crear lienzo y Gráfico \n",
    "plt.figure(figsize=(8, 6))\n",
    "bars = sns.barplot(x=ventas_agrupadas.index, y=ventas_agrupadas.values)\n",
    "\n",
    "# Configuración de cada barra\n",
    "colores = ['orange', 'skyblue']\n",
    "for i, bar in enumerate(bars.patches):\n",
    "  bar.set_color(colores[i]) # Asignar colores manualmente a cada barra\n",
    "\n",
    "  # Calcular el porcentaje para cada barra\n",
    "  porcentaje = (ventas_agrupadas.values[i] / cantVentas) * 100\n",
    "\n",
    "  # Colocar el texto de porcentaje justo encima de cada barra\n",
    "  bars.text(\n",
    "      bar.get_x() + bar.get_width() / 2,  # Posición en X\n",
    "      bar.get_height() + 5,               # Posición en Y (ligeramente encima de la barra)\n",
    "      f'{porcentaje:.2f}%',               # Texto con formato de porcentaje\n",
    "      ha='center', va='bottom',           # Alineación del texto\n",
    "      fontsize=12, color='black'          # Tamaño y color del texto\n",
    "  )\n",
    "\n",
    "# Estética\n",
    "plt.title('Distribución de Ventas: Córdoba vs Resto de Provincias', fontsize=15)\n",
    "plt.xlabel('')\n",
    "plt.ylabel('Cantidad de Ventas', fontsize=12)\n",
    "plt.axhline(y=len(pedidos) * 0.7, color='r', linestyle='--', label='70% de Ventas')  # Línea de referencia 70%\n",
    "plt.legend() # Mostrar leyenda\n",
    "plt.tight_layout() # Ajustar el layout para evitar solapamientos\n",
    "\n",
    "plt.show()"
   ]
  },
  {
   "cell_type": "markdown",
   "metadata": {},
   "source": [
    "Contrario a lo que se creía, la distribución de las ventas no era la que se esperaba, pero sigue siendo una cantidad de ventas importantes como para no descuidar su logística"
   ]
  },
  {
   "cell_type": "markdown",
   "metadata": {},
   "source": [
    "#### <h4 style=\"color:#B87333; font-weight:bold;\">GRÁFICO DISTRIBUCIÓN. TOP 5 PROVINCIAS</h4> \n",
    "Visualizaremos la proporción de ventas que provienen de las diferentes provincias. Solo mostraremos las primeras 5"
   ]
  },
  {
   "cell_type": "code",
   "execution_count": 73,
   "metadata": {},
   "outputs": [
    {
     "data": {
      "image/png": "[encoded data removed]",
      "text/plain": [
       "<Figure size 1000x600 with 1 Axes>"
      ]
     },
     "metadata": {},
     "output_type": "display_data"
    }
   ],
   "source": [
    "# Seleccionar las 5 provincias con más ventas\n",
    "ventas_top_5 = conteo_provincias.sort_values(ascending=0).head(5)\n",
    "\n",
    "# Crear lienzo y Gráfico \n",
    "plt.figure(figsize=(10, 6))\n",
    "bars = sns.barplot(x=ventas_top_5.index, y=ventas_top_5.values)\n",
    "\n",
    "# Configuración de cada barra\n",
    "colores = ['orange' if provincia == 'Córdoba' else 'skyblue' for provincia in ventas_top_5.index]\n",
    "for i, bar in enumerate(bars.patches):\n",
    "  bar.set_color(colores[i]) # Asignar colores manualmente a cada barra\n",
    "\n",
    "  # Calcular el porcentaje para cada barra\n",
    "  porcentaje = (ventas_top_5.values[i] / cantVentas) * 100\n",
    "\n",
    "  # Colocar el texto de porcentaje justo encima de cada barra\n",
    "  bars.text(\n",
    "      bar.get_x() + bar.get_width() / 2,  # Posición en X\n",
    "      bar.get_height() + 5,               # Posición en Y (ligeramente encima de la barra)\n",
    "      f'{porcentaje:.2f}%',               # Texto con formato de porcentaje\n",
    "      ha='center', va='bottom',           # Alineación del texto\n",
    "      fontsize=12, color='black'          # Tamaño y color del texto\n",
    "  )\n",
    "\n",
    "# Estética\n",
    "plt.title('Distribución de Ventas por Provincia (Top 5)', fontsize=14)\n",
    "plt.xlabel('')\n",
    "plt.ylabel('Cantidad de Ventas', fontsize=12)\n",
    "plt.xticks(rotation=45)\n",
    "plt.tight_layout()\n",
    "\n",
    "plt.show()"
   ]
  },
  {
   "cell_type": "markdown",
   "metadata": {},
   "source": [
    "Según este gráfico se puede observar una gran cantidad de ventas de Buenos Aires (+ Capital Federal) lo cual amerita que se analicé implementar una logística especial para dicha demanda que equivale a un 31 % de las ventas"
   ]
  },
  {
   "cell_type": "markdown",
   "metadata": {},
   "source": [
    "### <h3 style=\"color:#FF1493; font-weight:bold;\">Hipotesis 2: Concentración de ventas en tiendas</h3>\n",
    "El 60% de las operaciones deberían estar concentradas en tres de las tiendas principales (Tiendas 1, 2 y 3)."
   ]
  },
  {
   "cell_type": "code",
   "execution_count": 74,
   "metadata": {},
   "outputs": [
    {
     "data": {
      "image/png": "[encoded data removed]",
      "text/plain": [
       "<Figure size 700x700 with 1 Axes>"
      ]
     },
     "metadata": {},
     "output_type": "display_data"
    }
   ],
   "source": [
    "# Reutilizamos la variable \"conteo_tiendas\" de Pedidos - Además se agruparán las del Grupo Hipótesis (1)\n",
    "ventas_por_tienda = pedidos['Tienda'].value_counts()\n",
    "\n",
    "# Filtrar las tiendas 1, 2 y 5 y calcular el porcentaje\n",
    "grupo_tiendas = conteo_tiendas [['1', '2', '3']].sum()\n",
    "otras_tiendas = conteo_tiendas .sum() - grupo_tiendas\n",
    "\n",
    "# Crear el gráfico de torta\n",
    "plt.figure(figsize=(7, 7))\n",
    "plt.pie([grupo_tiendas, otras_tiendas], labels=['Tiendas 1, 2 y 3', 'Otras Tiendas'], autopct='%1.1f%%', colors=['#ff9999','#66b3ff'])\n",
    "plt.title('Concentración de Ventas en Tiendas 1, 2 y 3', fontsize=14)\n",
    "plt.show()\n"
   ]
  },
  {
   "cell_type": "markdown",
   "metadata": {},
   "source": [
    "Aunque se esperaba un 60% de las ventas en el grupo 1, el porcentaje fue mayor a lo esperado."
   ]
  },
  {
   "cell_type": "markdown",
   "metadata": {},
   "source": [
    "### <h3 style=\"color:#FF1493; font-weight:bold;\">Hipotesis 3: Comportamiento temporal de las ventas</h3>\n",
    "Se asume que la mayoría de las ventas ocurren durante los fines de semana."
   ]
  },
  {
   "cell_type": "code",
   "execution_count": 83,
   "metadata": {},
   "outputs": [
    {
     "data": {
      "image/png": "[encoded data removed]",
      "text/plain": [
       "<Figure size 1000x600 with 1 Axes>"
      ]
     },
     "metadata": {},
     "output_type": "display_data"
    }
   ],
   "source": [
    "# Reutilizamos la variable \"conteo_dias\" de Pedidos que están ordenados por día -- 0 = lunes\n",
    "\n",
    "# Crear lienzo y Gráfico\n",
    "plt.figure(figsize=(10, 6))\n",
    "bars = sns.barplot(x=conteo_dias.index, y=conteo_dias.values)\n",
    "\n",
    "# Colorear\n",
    "for i in range(5): \n",
    "    bars.patches[i].set_facecolor('skyblue')\n",
    "for i in range(5, 7):  # 5: sábado, 6: domingo\n",
    "    bars.patches[i].set_facecolor('orange')  # Color naranja para el fin de semana\n",
    "\n",
    "# Calcular el porcentaje para cada barra\n",
    "for i, bar in enumerate(bars.patches):\n",
    "    # Calcular el porcentaje para cada barra\n",
    "    porcentaje = (conteo_dias.values[i] / cantVentas) * 100\n",
    "\n",
    "    # Colocar el texto de porcentaje justo encima de cada barra\n",
    "    bars.text(\n",
    "    bar.get_x() + bar.get_width() / 2,  # Posición en X\n",
    "    bar.get_height() + 5,               # Posición en Y (ligeramente encima de la barra)\n",
    "    f'{porcentaje:.2f}%',               # Texto con formato de porcentaje\n",
    "    ha='center', va='bottom',           # Alineación del texto\n",
    "    fontsize=12, color='black'          # Tamaño y color del texto\n",
    "    )\n",
    "\n",
    "# Estética\n",
    "plt.title('Distribución de Ventas por Día de la Semana', fontsize=14)\n",
    "plt.xlabel('')\n",
    "plt.ylabel('Cantidad de Ventas', fontsize=12)\n",
    "plt.ylim(conteo_dias.values.min() * 0.9, conteo_dias.values.max() * 1.1) # Establecer el rango del eje y\n",
    "plt.xticks(ticks=[0, 1, 2, 3, 4, 5, 6], labels=['Lun', 'Mar', 'Mié', 'Jue', 'Vie', 'Sáb', 'Dom'])\n",
    "plt.tight_layout()\n",
    "plt.show()"
   ]
  },
  {
   "cell_type": "markdown",
   "metadata": {},
   "source": [
    "Como se esperaba los fines de feriado se realizan la mayoría de las ventas y el lunes, el lunes es un día que sigue al fin de semana, como si lo eligieran allí y realizasen la compra el lunes. El 47,22% de las ventas se producen en esos 3 días (31,55 el fin de semana).\n",
    "\n",
    "Esto implica que los días lunes la logística debe estar preparada para afrontar el trabajo extra y se pueden establecer 2 grupos para pasar al área de marketing para que analice la mejor estrategia para nuestros productos"
   ]
  },
  {
   "cell_type": "markdown",
   "metadata": {},
   "source": [
    "### <h3 style=\"color:#FF1493; font-weight:bold;\">Hipotesis 4: Patrones horarios</h3>\n",
    "Se estima que una cantidad considerable de ventas se realizan en horarios de siesta."
   ]
  },
  {
   "cell_type": "code",
   "execution_count": 90,
   "metadata": {},
   "outputs": [
    {
     "data": {
      "image/png": "[encoded data removed]",
      "text/plain": [
       "<Figure size 1000x600 with 1 Axes>"
      ]
     },
     "metadata": {},
     "output_type": "display_data"
    }
   ],
   "source": [
    "# Reutilizamos la variable \"conteo_horas\" de Pedidos\n",
    "\n",
    "# Crear lienzo y Gráfico\n",
    "plt.figure(figsize=(10, 6))\n",
    "\n",
    "# Crear el gráfico de líneas\n",
    "line_plot = sns.lineplot(x=conteo_horas.index, y=conteo_horas.values, marker='o', color='skyblue')\n",
    "\n",
    "# Resaltar el horario de la siesta (13:00 a 16:00)\n",
    "plt.axvspan(13, 16, color='orange', alpha=0.3, label='Horario de Siesta')  # Sombrear el área de la siesta\n",
    "\n",
    "# Calcular el porcentaje para cada punto y colocarlo en el gráfico\n",
    "for i, value in enumerate(conteo_horas.values):\n",
    "    porcentaje = (value / cantVentas) * 100\n",
    "\n",
    "    # Colocar el texto de porcentaje justo encima de cada punto\n",
    "    plt.text(\n",
    "        conteo_horas.index[i],          # Posición en X\n",
    "        value + 5,                      # Posición en Y (ligeramente encima del punto)\n",
    "        f'{porcentaje:.1f}%',           # Texto con formato de porcentaje\n",
    "        ha='center', va='bottom',       # Alineación del texto\n",
    "        fontsize=12, color='black'      # Tamaño y color del texto\n",
    "    )\n",
    "\n",
    "# Estética\n",
    "plt.title('Distribución de Ventas por Hora', fontsize=14)\n",
    "plt.xlabel('Hora del Día', fontsize=12)\n",
    "plt.ylabel('Cantidad de Ventas', fontsize=12)\n",
    "plt.xticks(ticks=conteo_horas.index)  # Asegurar que las horas sean visibles\n",
    "plt.legend()  # Mostrar leyenda\n",
    "plt.tight_layout()\n",
    "plt.show()"
   ]
  },
  {
   "cell_type": "markdown",
   "metadata": {},
   "source": [
    "Contrariamente a lo que se esperaba hay un pico de operaciones en el medio día y para la noche, la mayoría de las operaciones se producen de 10 a 24 hs lo que también implica que los momentos más óptimos para realizar configuraciones bien temprano el día o durante la madrugada."
   ]
  }
 ],
 "metadata": {
  "kernelspec": {
   "display_name": "Python 3",
   "language": "python",
   "name": "python3"
  },
  "language_info": {
   "codemirror_mode": {
    "name": "ipython",
    "version": 3
   },
   "file_extension": ".py",
   "mimetype": "text/x-python",
   "name": "python",
   "nbconvert_exporter": "python",
   "pygments_lexer": "ipython3",
   "version": "3.12.0"
  }
 },
 "nbformat": 4,
 "nbformat_minor": 2
}
